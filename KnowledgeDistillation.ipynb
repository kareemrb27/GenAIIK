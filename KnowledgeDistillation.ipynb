{
  "nbformat": 4,
  "nbformat_minor": 0,
  "metadata": {
    "colab": {
      "provenance": [],
      "include_colab_link": true
    },
    "kernelspec": {
      "name": "python3",
      "display_name": "Python 3"
    },
    "language_info": {
      "name": "python"
    }
  },
  "cells": [
    {
      "cell_type": "markdown",
      "metadata": {
        "id": "view-in-github",
        "colab_type": "text"
      },
      "source": [
        "<a href=\"https://colab.research.google.com/github/kareemrb27/GenAIIK/blob/main/KnowledgeDistillation.ipynb\" target=\"_parent\"><img src=\"https://colab.research.google.com/assets/colab-badge.svg\" alt=\"Open In Colab\"/></a>"
      ]
    },
    {
      "cell_type": "code",
      "execution_count": null,
      "metadata": {
        "id": "_mQweL_gbk9u"
      },
      "outputs": [],
      "source": [
        "import torch\n",
        "import torch.nn as nn\n",
        "import torch.nn.functional as F\n",
        "from torch.optim import Optimizer"
      ]
    },
    {
      "cell_type": "code",
      "source": [
        "KD_loss = nn.KLDivLoss(reduction='batchmean')\n",
        "\n",
        "def kd_step(teacher: nn.Module,\n",
        "            student: nn.Module,\n",
        "            temperature: float,\n",
        "            inputs: torch.tensor,\n",
        "            optimizer: Optimizer):\n",
        "    teacher.eval() # We are not training the teacher\n",
        "    student.train() # We are training this\n",
        "\n",
        "    with torch.no_grad():\n",
        "        logits_t = teacher(inputs=inputs)\n",
        "    logits_s = student(inputs=inputs)\n",
        "\n",
        "    loss = KD_loss(input=F.log_softmax(logits_s/temperature, dim=-1),\n",
        "                   target=F.softmax(logits_t/temperature, dim=-1))\n",
        "\n",
        "    loss.backward()\n",
        "    optimizer.step()\n",
        "    optimizer.zero_grad()"
      ],
      "metadata": {
        "id": "id9p0oxlblS4"
      },
      "execution_count": null,
      "outputs": []
    }
  ]
}